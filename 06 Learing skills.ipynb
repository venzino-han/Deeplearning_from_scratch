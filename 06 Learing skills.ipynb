{
 "cells": [
  {
   "cell_type": "markdown",
   "metadata": {},
   "source": [
    "# 학습 관련 기술들 \n",
    "\n",
    "- 파라미터 최적값 탐색 \n",
    "- 가중치 파라미터 초기값\n",
    "- 하이퍼파라미터 설정\n",
    "- 가중치 감소, 드롭아웃 등 오버피팅 대응\n",
    "- 배치 정규화"
   ]
  },
  {
   "cell_type": "markdown",
   "metadata": {},
   "source": [
    "### 매개변수 갱신 \n",
    "#### 확률적 경사 하강법 SGD"
   ]
  },
  {
   "cell_type": "code",
   "execution_count": 1,
   "metadata": {},
   "outputs": [],
   "source": [
    "# 경사 방향으로 학습률 만큼 이동\n",
    "# 최적화 방식의 모듈화\n",
    "class SGD:\n",
    "    def __init__(self, lr=0.01):\n",
    "        self.lr = lr\n",
    "        \n",
    "    def update(self, params, grads):\n",
    "        for key in params.keys():\n",
    "            params[key] -= self.lr*grads[key]"
   ]
  },
  {
   "cell_type": "markdown",
   "metadata": {},
   "source": [
    "#### SGD의 단점"
   ]
  },
  {
   "cell_type": "markdown",
   "metadata": {},
   "source": [
    "#### 비등방성 함수(anistropy, 방향에 따라 성질,기울기가 달라지는 함수 ) 에서 탐색경로가 비효율적 \n",
    "![](img/057.jpg)"
   ]
  },
  {
   "cell_type": "markdown",
   "metadata": {},
   "source": [
    "### 모멘텀\n",
    "##### 물리학에서 처럼 기울기 방향으로 힘을 받아 가속되는 원리를 사용"
   ]
  },
  {
   "cell_type": "code",
   "execution_count": 2,
   "metadata": {},
   "outputs": [],
   "source": [
    "class Momentum:\n",
    "    def __init__(self, lr=0.01, momentum =0.9):\n",
    "        self.lr = lr \n",
    "        self.momentum = momentum #가속도\n",
    "        self.v = None #속도\n",
    "        \n",
    "    def update(self, params, grads):\n",
    "        if self.v is None:\n",
    "            self.v ={}\n",
    "            for key, val in params.items():\n",
    "                self.v[key] = np.zero_like(val)\n",
    "                \n",
    "        for key in params.keys():\n",
    "            self.v[key] = self.momentum * self.v[key] - self.lr*grads[key]\n",
    "            params[key] += self.v[key]\n",
    "            \n",
    "            "
   ]
  },
  {
   "cell_type": "code",
   "execution_count": null,
   "metadata": {},
   "outputs": [],
   "source": []
  },
  {
   "cell_type": "markdown",
   "metadata": {},
   "source": [
    "### AdaGrad\n",
    "##### 학습률을 점차 감소시키는 방법이 있음 Learning Rate Decay\n",
    "##### h값에 dL/dw 각 원소를 제곱하여 더함 / 이후 학습률에 1/h^1/2 를 곱하여 갱신함 \n",
    "##### 매개변수 원소중 갱신이 크게된 경우는 학습률이 낮아짐\n",
    "##### 매개변수 별로 학습률 감소가 다르게 적용됨\n",
    "##### 유사한 방식으로 RMSProp가 있음 지수이동평균으로 과거 기울기 반영 규모를 기하급수적으로 감소시킴"
   ]
  },
  {
   "cell_type": "code",
   "execution_count": 3,
   "metadata": {},
   "outputs": [],
   "source": [
    "class AdaGrad:\n",
    "    def __init__(self, lr=0.01):\n",
    "        self.lr = lr\n",
    "        self.h = None\n",
    "        \n",
    "    def update(self, params, grads):\n",
    "        if self.h is None:\n",
    "            self.h ={}\n",
    "            for key, val in params.itmes():\n",
    "                self.h[key] = np.zeros_like(val)\n",
    "            \n",
    "        for key in params.keys():\n",
    "            self.h[key] += grads[key] * grads[key]\n",
    "            params[key] -= self.lr*grads[key]/(np.sqrt(self.h[key]) + 1e-7) # 0으로 나누게 되는 경우를 방지함"
   ]
  },
  {
   "cell_type": "code",
   "execution_count": null,
   "metadata": {},
   "outputs": [],
   "source": []
  },
  {
   "cell_type": "markdown",
   "metadata": {},
   "source": [
    "### Adam\n",
    "##### AdaGrad + Momentum "
   ]
  },
  {
   "cell_type": "markdown",
   "metadata": {},
   "source": [
    "Weight init activation histogram"
   ]
  },
  {
   "cell_type": "code",
   "execution_count": 10,
   "metadata": {},
   "outputs": [],
   "source": [
    "import numpy as np\n",
    "import matplotlib.pyplot as plt"
   ]
  },
  {
   "cell_type": "code",
   "execution_count": 11,
   "metadata": {},
   "outputs": [],
   "source": [
    "def sigmoid(x):\n",
    "    return 1/(1+np.exp(-x))"
   ]
  },
  {
   "cell_type": "code",
   "execution_count": 12,
   "metadata": {},
   "outputs": [],
   "source": [
    "def ReLU(x):\n",
    "    return np.maximum(0,x)"
   ]
  },
  {
   "cell_type": "code",
   "execution_count": 13,
   "metadata": {},
   "outputs": [],
   "source": [
    "def tanh(x):\n",
    "    return np.tanh(x)"
   ]
  },
  {
   "cell_type": "code",
   "execution_count": 30,
   "metadata": {},
   "outputs": [],
   "source": [
    "input_data = np.random.randn(1000,100) # 랜덤데이터 생성\n",
    "node_num = 100\n",
    "hidden_layer_size = 5\n",
    "activations ={}\n",
    "\n",
    "x= input_data"
   ]
  },
  {
   "cell_type": "code",
   "execution_count": 37,
   "metadata": {},
   "outputs": [],
   "source": [
    "for i in range(hidden_layer_size):\n",
    "    if i !=0:\n",
    "        x = activations[i-1]\n",
    "        \n",
    "    w = np.random.randn(node_num, node_num) * 1 # 가중치 생성\n",
    "    #w = np.random.randn(node_num, node_num) * 0.01\n",
    "    # w = np.random.randn(node_num, node_num) * np.sqrt(1.0 / node_num)\n",
    "    # w = np.random.randn(node_num, node_num) * np.sqrt(2.0 / node_num)\n",
    "    \n",
    "    a= np.dot(x,w) #퍼셉트론\n",
    "    z= sigmoid(a) #활성함수\n",
    "    #z= ReLU(a)\n",
    "    \n",
    "    activations[i] = z\n",
    "        "
   ]
  },
  {
   "cell_type": "code",
   "execution_count": 38,
   "metadata": {},
   "outputs": [
    {
     "data": {
      "text/plain": [
       "{0: array([[0.54434181, 0.90256506, 0.61757648, ..., 0.7598807 , 0.15804572,\n",
       "         0.99912282],\n",
       "        [0.54434178, 0.90256508, 0.61757648, ..., 0.75988071, 0.15804583,\n",
       "         0.99912282],\n",
       "        [0.5443418 , 0.90256506, 0.61757614, ..., 0.75988059, 0.15804584,\n",
       "         0.99912282],\n",
       "        ...,\n",
       "        [0.54434174, 0.90256502, 0.61757633, ..., 0.7598804 , 0.15804602,\n",
       "         0.99912282],\n",
       "        [0.54434198, 0.90256501, 0.61757677, ..., 0.75988068, 0.15804584,\n",
       "         0.99912282],\n",
       "        [0.54434156, 0.90256504, 0.61757638, ..., 0.75988067, 0.15804587,\n",
       "         0.99912282]]),\n",
       " 1: array([[0.99368598, 0.99999196, 0.00134821, ..., 0.04536046, 0.00947261,\n",
       "         0.99791765],\n",
       "        [0.993686  , 0.99999196, 0.00134821, ..., 0.04536044, 0.00947263,\n",
       "         0.99791765],\n",
       "        [0.993686  , 0.99999196, 0.00134821, ..., 0.04536043, 0.00947261,\n",
       "         0.99791766],\n",
       "        ...,\n",
       "        [0.993686  , 0.99999196, 0.00134821, ..., 0.04536043, 0.00947261,\n",
       "         0.99791766],\n",
       "        [0.99368599, 0.99999196, 0.00134821, ..., 0.04536051, 0.00947263,\n",
       "         0.99791766],\n",
       "        [0.99368599, 0.99999196, 0.00134821, ..., 0.04536045, 0.00947263,\n",
       "         0.99791766]]),\n",
       " 2: array([[0.12261361, 0.02667077, 0.73995809, ..., 0.99431823, 0.03032281,\n",
       "         0.99370726],\n",
       "        [0.12261347, 0.02667075, 0.73995831, ..., 0.99431823, 0.03032281,\n",
       "         0.99370725],\n",
       "        [0.1226135 , 0.02667073, 0.73995815, ..., 0.99431822, 0.03032283,\n",
       "         0.99370726],\n",
       "        ...,\n",
       "        [0.12261351, 0.02667067, 0.73995851, ..., 0.99431824, 0.03032284,\n",
       "         0.99370726],\n",
       "        [0.12261365, 0.02667072, 0.73995851, ..., 0.99431823, 0.03032282,\n",
       "         0.99370726],\n",
       "        [0.12261342, 0.02667076, 0.73995836, ..., 0.99431824, 0.03032284,\n",
       "         0.99370726]]),\n",
       " 3: array([[6.42660870e-01, 7.15349022e-02, 3.41771869e-02, ...,\n",
       "         9.96969707e-01, 7.35917568e-01, 4.35985577e-04],\n",
       "        [6.42660850e-01, 7.15349296e-02, 3.41772040e-02, ...,\n",
       "         9.96969712e-01, 7.35917589e-01, 4.35985493e-04],\n",
       "        [6.42660912e-01, 7.15349624e-02, 3.41771955e-02, ...,\n",
       "         9.96969706e-01, 7.35917402e-01, 4.35985338e-04],\n",
       "        ...,\n",
       "        [6.42660965e-01, 7.15349259e-02, 3.41772112e-02, ...,\n",
       "         9.96969705e-01, 7.35917608e-01, 4.35984927e-04],\n",
       "        [6.42660939e-01, 7.15348868e-02, 3.41772048e-02, ...,\n",
       "         9.96969709e-01, 7.35917933e-01, 4.35985121e-04],\n",
       "        [6.42660860e-01, 7.15349490e-02, 3.41772191e-02, ...,\n",
       "         9.96969711e-01, 7.35917787e-01, 4.35985455e-04]]),\n",
       " 4: array([[0.03489123, 0.99995644, 0.65902447, ..., 0.67930488, 0.02470492,\n",
       "         0.98868797],\n",
       "        [0.03489124, 0.99995644, 0.65902448, ..., 0.67930504, 0.02470493,\n",
       "         0.98868797],\n",
       "        [0.03489124, 0.99995644, 0.6590244 , ..., 0.6793051 , 0.02470491,\n",
       "         0.98868798],\n",
       "        ...,\n",
       "        [0.03489121, 0.99995644, 0.65902427, ..., 0.67930552, 0.02470487,\n",
       "         0.98868798],\n",
       "        [0.03489121, 0.99995644, 0.65902433, ..., 0.67930531, 0.02470487,\n",
       "         0.98868798],\n",
       "        [0.0348912 , 0.99995644, 0.65902438, ..., 0.67930511, 0.02470491,\n",
       "         0.98868798]])}"
      ]
     },
     "execution_count": 38,
     "metadata": {},
     "output_type": "execute_result"
    }
   ],
   "source": [
    "activations"
   ]
  },
  {
   "cell_type": "code",
   "execution_count": 39,
   "metadata": {},
   "outputs": [
    {
     "data": {
      "image/png": "[encoded data removed]",
      "text/plain": [
       "<Figure size 432x288 with 5 Axes>"
      ]
     },
     "metadata": {
      "needs_background": "light"
     },
     "output_type": "display_data"
    }
   ],
   "source": [
    "for i, a in activations.items():\n",
    "    plt.subplot(1, len(activations), i+1)\n",
    "    plt.title(str(i+1) + \"-layer\")\n",
    "    if i != 0: \n",
    "        plt.yticks([],[])\n",
    "        #plt.xlim(0.1, 1)\n",
    "        #plt.ylim(0, 7000)\n",
    "    plt.hist(a.flatten(), 30, range=(0,1))\n",
    "plt.show()\n",
    "#표준편차가 1인 정규분포를 이용한 경우 --> 1,0으로 치우치는 기울기 소실 발생"
   ]
  },
  {
   "cell_type": "code",
   "execution_count": 40,
   "metadata": {},
   "outputs": [],
   "source": [
    "input_data = np.random.randn(1000,100) # 랜덤데이터 생성\n",
    "node_num = 100\n",
    "hidden_layer_size = 5\n",
    "activations ={}\n",
    "\n",
    "x= input_data\n",
    "\n",
    "for i in range(hidden_layer_size):\n",
    "    if i !=0:\n",
    "        x = activations[i-1]\n",
    "    \n",
    "    w = np.random.randn(node_num, node_num) * 0.01\n",
    "    # w = np.random.randn(node_num, node_num) * np.sqrt(1.0 / node_num)\n",
    "    # w = np.random.randn(node_num, node_num) * np.sqrt(2.0 / node_num)\n",
    "    \n",
    "    a= np.dot(x,w) #퍼셉트론\n",
    "    z= sigmoid(a) #활성함수\n",
    "    #z= ReLU(a)\n",
    "    \n",
    "    activations[i] = z\n",
    "        "
   ]
  },
  {
   "cell_type": "code",
   "execution_count": 41,
   "metadata": {},
   "outputs": [
    {
     "data": {
      "image/png": "[encoded data removed]",
      "text/plain": [
       "<Figure size 432x288 with 5 Axes>"
      ]
     },
     "metadata": {
      "needs_background": "light"
     },
     "output_type": "display_data"
    }
   ],
   "source": [
    "for i, a in activations.items():\n",
    "    plt.subplot(1, len(activations), i+1)\n",
    "    plt.title(str(i+1) + \"-layer\")\n",
    "    if i != 0: \n",
    "        plt.yticks([],[])\n",
    "        #plt.xlim(0.1, 1)\n",
    "        #plt.ylim(0, 7000)\n",
    "    plt.hist(a.flatten(), 30, range=(0,1))\n",
    "plt.show()\n",
    "#표준편차 0.01인 경우 0.5에 집중되는 경향을 보임 --> 다수의 뉴런이 비슷한 값을 출력함 --> 표현력 제한됨"
   ]
  },
  {
   "cell_type": "markdown",
   "metadata": {},
   "source": [
    "### Xavier 초기값\n",
    "#### 앞 계층의 노드가 n 개일 경우 표준편차 : 1/sqrt(n) 사용\n",
    "![](img/058.jpg)"
   ]
  },
  {
   "cell_type": "code",
   "execution_count": 48,
   "metadata": {},
   "outputs": [
    {
     "data": {
      "image/png": "[encoded data removed]",
      "text/plain": [
       "<Figure size 432x288 with 5 Axes>"
      ]
     },
     "metadata": {
      "needs_background": "light"
     },
     "output_type": "display_data"
    }
   ],
   "source": [
    "input_data = np.random.randn(1000,100) # 랜덤데이터 생성\n",
    "node_num = 100\n",
    "hidden_layer_size = 5\n",
    "activations ={}\n",
    "\n",
    "x= input_data\n",
    "\n",
    "for i in range(hidden_layer_size):\n",
    "    if i !=0:\n",
    "        x = activations[i-1]\n",
    "    \n",
    "   \n",
    "    w = np.random.randn(node_num, node_num) * np.sqrt(1.0 / node_num)\n",
    "    # w = np.random.randn(node_num, node_num) * np.sqrt(2.0 / node_num)\n",
    "    \n",
    "    a= np.dot(x,w) #퍼셉트론\n",
    "    z= sigmoid(a) #활성함수\n",
    "    #z= ReLU(a)\n",
    "    \n",
    "    activations[i] = z\n",
    "\n",
    "for i, a in activations.items():\n",
    "    plt.subplot(1, len(activations), i+1)\n",
    "    plt.title(str(i+1) + \"-layer\")\n",
    "    if i != 0: \n",
    "        plt.yticks([],[])\n",
    "        #plt.xlim(0.1, 1)\n",
    "        #plt.ylim(0, 7000)\n",
    "    plt.hist(a.flatten(), 30, range=(0,1))\n",
    "plt.show()\n",
    "#상대적으로 고른 분포를 보임"
   ]
  },
  {
   "cell_type": "markdown",
   "metadata": {},
   "source": [
    "#### sigmoid , tanh 함수는 좌우 대칭이라 중앙 부분이 선형 --> Xavier 적절\n",
    "#### ReLU --> He 초기값 "
   ]
  },
  {
   "cell_type": "code",
   "execution_count": 50,
   "metadata": {},
   "outputs": [
    {
     "data": {
      "image/png": "[encoded data removed]",
      "text/plain": [
       "<Figure size 432x288 with 5 Axes>"
      ]
     },
     "metadata": {
      "needs_background": "light"
     },
     "output_type": "display_data"
    }
   ],
   "source": [
    "input_data = np.random.randn(1000,100) # 랜덤데이터 생성\n",
    "node_num = 100\n",
    "hidden_layer_size = 5\n",
    "activations ={}\n",
    "\n",
    "x= input_data\n",
    "\n",
    "for i in range(hidden_layer_size):\n",
    "    if i !=0:\n",
    "        x = activations[i-1]\n",
    "    \n",
    "    w = np.random.randn(node_num, node_num) * np.sqrt(2.0 / node_num) #He 초기값\n",
    "    \n",
    "    a= np.dot(x,w) #퍼셉트론\n",
    "    z= ReLU(a)\n",
    "    \n",
    "    activations[i] = z\n",
    "\n",
    "for i, a in activations.items():\n",
    "    plt.subplot(1, len(activations), i+1)\n",
    "    plt.title(str(i+1) + \"-layer\")\n",
    "    if i != 0: \n",
    "        plt.yticks([],[])\n",
    "        plt.xlim(0.1, 1)\n",
    "        plt.ylim(0, 7000)\n",
    "    plt.hist(a.flatten(), 30, range=(0,1))\n",
    "plt.show()\n",
    "#상대적으로 고른 분포를 보임"
   ]
  },
  {
   "cell_type": "markdown",
   "metadata": {},
   "source": [
    "### 배치 정규화\n",
    "#### 가중치의 초기값을 적절히 설정하면 학습수행이 원활해진다. \n",
    "#### --> 각 층이 활성화를 적당히 퍼트리도록 강제하는 아이디어\n",
    "#### 학습이 빨라지고, 초기값 의존도가 낮아지며, 오버피팅을 억제!\n",
    "![](img/059.jpg)"
   ]
  },
  {
   "cell_type": "markdown",
   "metadata": {},
   "source": []
  },
  {
   "cell_type": "code",
   "execution_count": null,
   "metadata": {},
   "outputs": [],
   "source": []
  },
  {
   "cell_type": "code",
   "execution_count": null,
   "metadata": {},
   "outputs": [],
   "source": []
  },
  {
   "cell_type": "code",
   "execution_count": null,
   "metadata": {},
   "outputs": [],
   "source": []
  },
  {
   "cell_type": "code",
   "execution_count": null,
   "metadata": {},
   "outputs": [],
   "source": []
  },
  {
   "cell_type": "code",
   "execution_count": null,
   "metadata": {},
   "outputs": [],
   "source": []
  },
  {
   "cell_type": "code",
   "execution_count": null,
   "metadata": {},
   "outputs": [],
   "source": []
  },
  {
   "cell_type": "code",
   "execution_count": null,
   "metadata": {},
   "outputs": [],
   "source": []
  },
  {
   "cell_type": "code",
   "execution_count": null,
   "metadata": {},
   "outputs": [],
   "source": []
  },
  {
   "cell_type": "code",
   "execution_count": null,
   "metadata": {},
   "outputs": [],
   "source": []
  },
  {
   "cell_type": "code",
   "execution_count": null,
   "metadata": {},
   "outputs": [],
   "source": []
  },
  {
   "cell_type": "code",
   "execution_count": null,
   "metadata": {},
   "outputs": [],
   "source": []
  },
  {
   "cell_type": "code",
   "execution_count": null,
   "metadata": {},
   "outputs": [],
   "source": []
  },
  {
   "cell_type": "code",
   "execution_count": null,
   "metadata": {},
   "outputs": [],
   "source": []
  }
 ],
 "metadata": {
  "kernelspec": {
   "display_name": "Python 3",
   "language": "python",
   "name": "python3"
  },
  "language_info": {
   "codemirror_mode": {
    "name": "ipython",
    "version": 3
   },
   "file_extension": ".py",
   "mimetype": "text/x-python",
   "name": "python",
   "nbconvert_exporter": "python",
   "pygments_lexer": "ipython3",
   "version": "3.7.3"
  }
 },
 "nbformat": 4,
 "nbformat_minor": 2
}
